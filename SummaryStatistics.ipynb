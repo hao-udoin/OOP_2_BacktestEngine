{
 "cells": [
  {
   "cell_type": "markdown",
   "id": "d90d1a5b-88d1-43bd-822e-5ba0357266a3",
   "metadata": {},
   "source": [
    "This is a draft for developing a library that calculates summary statistics for a portfolio. We hope to cover:\n",
    "\n",
    "1. portfolio mean return\n",
    "2. standard deviation\n",
    "3. t-ratio of mean return (and statistical significance)\n",
    "4. excess return over the T-bill (and statistical significance)\n",
    "5. excess return over the DJIA return (and statistical significance)\n",
    "6. Sharpe ratio\n",
    "7. market beta\n",
    "8. market alpha (and statistical significance)\n",
    "9. Fama-French betas\n",
    "10. Fama-French alpha (and statistical significance)\n",
    "11. Treynor measure\n",
    "12. M^2 measure (portfolio outperformance relative to the market)\n",
    "13. appraisal ratio\n",
    "14. best weekly return\n",
    "15. worst weekly return\n",
    "16. number of winning weeks\n",
    "17. number of losing weeks\n",
    "18. maximum consecutive losing weeks"
   ]
  },
  {
   "cell_type": "code",
   "execution_count": null,
   "id": "72e8c12c-e453-494e-a67f-f8f52943b0d9",
   "metadata": {},
   "outputs": [],
   "source": []
  }
 ],
 "metadata": {
  "kernelspec": {
   "display_name": "Python 3 (ipykernel)",
   "language": "python",
   "name": "python3"
  },
  "language_info": {
   "codemirror_mode": {
    "name": "ipython",
    "version": 3
   },
   "file_extension": ".py",
   "mimetype": "text/x-python",
   "name": "python",
   "nbconvert_exporter": "python",
   "pygments_lexer": "ipython3",
   "version": "3.11.5"
  }
 },
 "nbformat": 4,
 "nbformat_minor": 5
}
